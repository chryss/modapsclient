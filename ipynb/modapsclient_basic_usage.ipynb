{
 "cells": [
  {
   "cell_type": "code",
   "execution_count": 1,
   "metadata": {},
   "outputs": [],
   "source": [
    "import modapsclient"
   ]
  },
  {
   "cell_type": "markdown",
   "metadata": {},
   "source": [
    "Create a ModapsClient object."
   ]
  },
  {
   "cell_type": "code",
   "execution_count": 2,
   "metadata": {
    "collapsed": true
   },
   "outputs": [],
   "source": [
    "a = modapsclient.ModapsClient()"
   ]
  },
  {
   "cell_type": "markdown",
   "metadata": {},
   "source": [
    "### Some examples"
   ]
  },
  {
   "cell_type": "markdown",
   "metadata": {},
   "source": [
    "List satellite instruments"
   ]
  },
  {
   "cell_type": "code",
   "execution_count": 3,
   "metadata": {},
   "outputs": [
    {
     "data": {
      "text/plain": [
       "{'AM1M': 'Terra MODIS',\n",
       " 'AMPM': 'Combined Aqua & Terra MODIS',\n",
       " 'ANC': 'Ancillary Data',\n",
       " 'NPP': 'Suomi NPP VIIRS',\n",
       " 'PM1M': 'Aqua MODIS'}"
      ]
     },
     "execution_count": 3,
     "metadata": {},
     "output_type": "execute_result"
    }
   ],
   "source": [
    "sats = a.listSatelliteInstruments()\n",
    "sats"
   ]
  },
  {
   "cell_type": "code",
   "execution_count": 4,
   "metadata": {},
   "outputs": [
    {
     "data": {
      "text/plain": [
       "['6000']"
      ]
     },
     "execution_count": 4,
     "metadata": {},
     "output_type": "execute_result"
    }
   ],
   "source": [
    "a.getMaxSearchResults()"
   ]
  },
  {
   "cell_type": "markdown",
   "metadata": {},
   "source": [
    "Find products, as full list, or grouped by Groups or Instruments."
   ]
  },
  {
   "cell_type": "code",
   "execution_count": 5,
   "metadata": {},
   "outputs": [
    {
     "data": {
      "text/plain": [
       "['NP5_RCERD_L0',\n",
       " 'NP5_RCERS_L0',\n",
       " 'NP5_RCERT_L0',\n",
       " 'NP5_RNSCA_L0',\n",
       " 'NP5_RVIDU_L0',\n",
       " 'NP5_RVIRD_L0',\n",
       " 'NP5_RVIRS_L0',\n",
       " 'NP5_RVIRT_L0',\n",
       " 'NP5_RVITD_L0',\n",
       " 'NPP_VIIRS_L0',\n",
       " 'VIIRSNP00T000',\n",
       " 'VIIRSNP00T008',\n",
       " 'VIIRSNP00T011',\n",
       " 'VIIRSNP00TSCI',\n",
       " 'NPP_DNBG_L1',\n",
       " 'NPP_DNFT_L1',\n",
       " 'NPP_GRCDNE_L1',\n",
       " 'NPP_GRCIAE_L1',\n",
       " 'NPP_GRCMAE_L1',\n",
       " 'NPP_IARNSS_L1',\n",
       " 'NPP_IMFT_L1',\n",
       " 'NPP_MARNSS_L1',\n",
       " 'NPP_MOFT_L1',\n",
       " 'NPP_UDGTGIP_L1',\n",
       " 'NPP_VCDGIP_L1',\n",
       " 'NPP_VDNE_L1',\n",
       " 'NPP_VIAE_L1',\n",
       " 'NPP_VMAE_L1',\n",
       " 'NPP_VOBCIP_L1',\n",
       " 'NPP_IMFTS_L1',\n",
       " 'NPP_MOFTS_L1',\n",
       " 'NPP_VDNES_L1',\n",
       " 'NPP_VIAES_L1',\n",
       " 'NPP_VMAES_L1',\n",
       " 'NPP_VOBCIPS_L1',\n",
       " 'VNP01',\n",
       " 'NP5_GAERO_L1',\n",
       " 'NP5_GDNBO_L1',\n",
       " 'NP5_GIMGO_L1',\n",
       " 'NP5_GITCO_L1',\n",
       " 'NP5_GMODO_L1',\n",
       " 'NP5_GMTCO_L1',\n",
       " 'NP5_IVSDH_L1',\n",
       " 'NP5_SVDNB_L1',\n",
       " 'NP5_SVI01_L1',\n",
       " 'NP5_SVI02_L1',\n",
       " 'NP5_SVI03_L1',\n",
       " 'NP5_SVI04_L1',\n",
       " 'NP5_SVI05_L1',\n",
       " 'NP5_SVM01_L1',\n",
       " 'NP5_SVM02_L1',\n",
       " 'NP5_SVM03_L1',\n",
       " 'NP5_SVM04_L1',\n",
       " 'NP5_SVM05_L1',\n",
       " 'NP5_SVM06_L1',\n",
       " 'NP5_SVM07_L1',\n",
       " 'NP5_SVM08_L1',\n",
       " 'NP5_SVM09_L1',\n",
       " 'NP5_SVM10_L1',\n",
       " 'NP5_SVM11_L1',\n",
       " 'NP5_SVM12_L1',\n",
       " 'NP5_SVM13_L1',\n",
       " 'NP5_SVM14_L1',\n",
       " 'NP5_SVM15_L1',\n",
       " 'NP5_SVM16_L1',\n",
       " 'NP5_UDGTGIP_L1',\n",
       " 'NP5_VCDGIP_L1',\n",
       " 'NP5_VMUGE_L1',\n",
       " 'NPP_VSDHIP_L1',\n",
       " 'NPP_AVAF_L2',\n",
       " 'NPP_CMIP_L2',\n",
       " 'NPP_D17LALBIP_L2',\n",
       " 'NPP_DAWIP_L2G',\n",
       " 'NPP_QMMVIIP_L2',\n",
       " 'NPP_QSIP_L2',\n",
       " 'NPP_QSLWMIP_L2',\n",
       " 'NPP_SRFLIIP_L2',\n",
       " 'NPP_SRFLISSIP_L2',\n",
       " 'NPP_SRFLMIP_L2',\n",
       " 'NPP_SRFLMSSIP_L2',\n",
       " 'NPP_VAFIP_L2',\n",
       " 'NPP_VAFIRE_L2D',\n",
       " 'NPP_VAMIIP_L2',\n",
       " 'NPP_VAOTHIP_L2',\n",
       " 'NPP_VAOTIP_L2',\n",
       " 'NPP_VAOT_L2',\n",
       " 'NPP_VBPXIP_L2',\n",
       " 'NPP_VCOPIP_L2',\n",
       " 'NPP_VGAERO_L2',\n",
       " 'NPP_VGCP_L2',\n",
       " 'NPP_VICIP_L2',\n",
       " 'NPP_VIMD_SS',\n",
       " 'NPP_VIQIP_L2',\n",
       " 'NPP_VIRTIP_L2',\n",
       " 'NPP_VISA_L2',\n",
       " 'NPP_VIST_L2',\n",
       " 'NPP_VIWIP_L2',\n",
       " 'NPP_VLAIP_L2',\n",
       " 'NPP_VLST_L2',\n",
       " 'NPP_VNDVIIP_L2',\n",
       " 'NPP_VNNIIP_L2',\n",
       " 'NPP_VRVI_L2',\n",
       " 'NPP_VSCD_L2',\n",
       " 'NPP_VSCM_L2',\n",
       " 'NPP_VSIC_L2',\n",
       " 'NPP_VSNICIP_L2',\n",
       " 'NPP_VSTIP_L2',\n",
       " 'NPP_VSUM_L2',\n",
       " 'NPP_VSUT_L2',\n",
       " 'NPP_WCTTIP_L2',\n",
       " 'VNP04E_L2',\n",
       " 'VNP09',\n",
       " 'NP5_AVAF_AGG_L2',\n",
       " 'NP5_AVAF_L2',\n",
       " 'NP5_CMIP_L2',\n",
       " 'NP5_QSIP_L3',\n",
       " 'NP5_SRFLIP_L2',\n",
       " 'NP5_VAMIIP_L2',\n",
       " 'NP5_VAOTIP_L2',\n",
       " 'NP5_VAOT_L2',\n",
       " 'NP5_VBPXIP_L2',\n",
       " 'NP5_VCOPIP_L2',\n",
       " 'NP5_VICIP_L2',\n",
       " 'NP5_VIQIP_L2',\n",
       " 'NP5_VIRTIP_L2',\n",
       " 'NP5_VISA_L2',\n",
       " 'NP5_VIST_L2',\n",
       " 'NP5_VIWIP_L2',\n",
       " 'NP5_VLST_L2',\n",
       " 'NP5_VOBCIP_L2',\n",
       " 'NP5_VRVI_L2',\n",
       " 'NP5_VSCD_L2',\n",
       " 'NP5_VSCM_L2',\n",
       " 'NP5_VSIC_L2',\n",
       " 'NP5_VSNICIP_L2',\n",
       " 'NP5_VSTIP_L2',\n",
       " 'NP5_VSTYO_L2',\n",
       " 'NP5_VSUM_L2',\n",
       " 'NP5_WCTTIP_L2',\n",
       " 'NPP_DGA1KDI_L2GD',\n",
       " 'NPP_DGA1KD_L2GD',\n",
       " 'NPP_DGA1KN_L2GD',\n",
       " 'NPP_DGA1PD_L2GD',\n",
       " 'NPP_DGA1PN_L2GD',\n",
       " 'NPP_DGAHKD_L2GD',\n",
       " 'NPP_DGAHPD_L2GD',\n",
       " 'NPP_DGAHPN_L2GD',\n",
       " 'NPP_DICHPD_L2GD',\n",
       " 'NPP_DICHPN_L2GD',\n",
       " 'NPP_DIQHPD_L2GD',\n",
       " 'NPP_DIQHPN_L2GD',\n",
       " 'NPP_DIST1PD_L2GD',\n",
       " 'NPP_DIST1PN_L2GD',\n",
       " 'NPP_DLST1KD_L2GD',\n",
       " 'NPP_DLST1KN_L2GD',\n",
       " 'NPP_DPT1KDI_L2GD',\n",
       " 'NPP_DPT1KD_L2GD',\n",
       " 'NPP_DPT1KN_L2GD',\n",
       " 'NPP_DPT1PD_L2GD',\n",
       " 'NPP_DPT1PN_L2GD',\n",
       " 'NPP_DPTHKD_L2GD',\n",
       " 'NPP_DPTHPD_L2GD',\n",
       " 'NPP_DPTHPN_L2GD',\n",
       " 'NPP_DSCD1KD_L2GD',\n",
       " 'NPP_DSCMHKD_L2GD',\n",
       " 'NPP_DSR1KDI_L2GD',\n",
       " 'NPP_DSRF1KD_L2GD',\n",
       " 'NPP_DSRFHKD_L2GD',\n",
       " 'NPP_DSRFLD_L2GD',\n",
       " 'NPP_DSTHPD_L2GD',\n",
       " 'NPP_DSTHPN_L2GD',\n",
       " 'NPP_DVAF1KD_L2GD',\n",
       " 'NPP_DVAF1KN_L2GD',\n",
       " 'NPP_DVIHKD_L2GD',\n",
       " 'VNP09GA',\n",
       " 'NPP_D16BRDF1_L3D',\n",
       " 'NPP_D16BRDF2_L3D',\n",
       " 'NPP_D16BRDF3_L3D',\n",
       " 'NPP_D16BRDF4_L3D',\n",
       " 'NPP_D16VI1KM_L3D',\n",
       " 'NPP_D16VIHKM_L3D',\n",
       " 'NPP_D17BRDFIP_L3',\n",
       " 'NPP_D17BRDFS_L3',\n",
       " 'NPP_D17LALBIP_L3',\n",
       " 'NPP_D17LALBS_L3',\n",
       " 'NPP_D17NDVI_L3',\n",
       " 'NPP_D17RNDVI_L3',\n",
       " 'NPP_D17RNDVIS_L3',\n",
       " 'NPP_D8AF1KM_L3D',\n",
       " 'NPP_D8LSTD_L3D',\n",
       " 'NPP_D8LSTN_L3D',\n",
       " 'NPP_D8SCHKD_L3D',\n",
       " 'NPP_D8SRF1KM_L3D',\n",
       " 'NPP_D8SRF5KM_L3D',\n",
       " 'NPP_D8SRFHKM_L3D',\n",
       " 'NPP_DAF1KM_L3D',\n",
       " 'VNP09A1',\n",
       " 'VNP09H1',\n",
       " 'NP5_D17LALBIP_L3',\n",
       " 'NP5_IVTRF_L3',\n",
       " 'NP5_VNDVIIP_L3',\n",
       " 'NP5_VSNICIP_L3',\n",
       " 'NPP_SRFLIP_CMG',\n",
       " 'VNP09CMG',\n",
       " 'NPP_DLSTD_L3D',\n",
       " 'NPP_DLSTN_L3D',\n",
       " 'NPP_DSCHKD_L3D',\n",
       " 'NPP_DSI1KPD_L3D',\n",
       " 'NPP_DSI1KPN_L3D',\n",
       " 'NPP_DSRFIP_L3',\n",
       " 'NPP_DSRFIPS_L3',\n",
       " 'NPP_DVSNICIP_L3',\n",
       " 'NPP_DVSNICIPS_L3',\n",
       " 'NPP_MNDVI_L3',\n",
       " 'NPP_MNDVIS_L3',\n",
       " 'NPP_MSRBTVIIP_L3',\n",
       " 'NPP_MSRBTVIS_L3',\n",
       " 'NPP_QMMVIIP_L3',\n",
       " 'NPP_QMMVIIPS_L3',\n",
       " 'NPP_QSTIP_L3',\n",
       " 'NPP_QSTIPS_L3',\n",
       " 'NPP_QSTLWMIP_L3',\n",
       " 'NPP_QSTLWMIPS_L3',\n",
       " 'NPS_CMIP_L2',\n",
       " 'NPS_CMIP_SH',\n",
       " 'NPS_IMFT_L1',\n",
       " 'NPS_QMMVIIP_L2',\n",
       " 'NPS_QSIP_L2',\n",
       " 'NPS_QSLWMIP_L2',\n",
       " 'NPS_SRFLIIP_L2',\n",
       " 'NPS_SRFLMIP_L2',\n",
       " 'NPS_TERRHTIP_L2',\n",
       " 'NPS_VAFIP_L2',\n",
       " 'NPS_VAMIIP_L2',\n",
       " 'NPS_VAOTHIP_L2',\n",
       " 'NPS_VAOTIP_L2',\n",
       " 'NPS_VAOT_L2',\n",
       " 'NPS_VCOPIP_L2',\n",
       " 'NPS_VGAERO_L2',\n",
       " 'NPS_VIAE_L1',\n",
       " 'NPS_VIAE_SH',\n",
       " 'NPS_VICIP_L2',\n",
       " 'NPS_VIQIP_L2',\n",
       " 'NPS_VIRTIP_L2',\n",
       " 'NPS_VIST_L2',\n",
       " 'NPS_VIWIP_L2',\n",
       " 'NPS_VLAIP_L2',\n",
       " 'NPS_VLST_L2',\n",
       " 'NPS_VLST_SH',\n",
       " 'NPS_VMAE_L1',\n",
       " 'NPS_VMAE_SH',\n",
       " 'NPS_VNDVIIP_L2',\n",
       " 'NPS_VNNIIP_L2',\n",
       " 'NPS_VRVI_L2',\n",
       " 'NPS_VSCD_L2',\n",
       " 'NPS_VSCM_L2',\n",
       " 'NPS_VSIC_L2',\n",
       " 'NPS_VSNICIP_L2',\n",
       " 'NPS_VSTIP_L2',\n",
       " 'NPS_VSUM_L2',\n",
       " 'NPS_VSUT_L2',\n",
       " 'NPS_WCTTIP_L2']"
      ]
     },
     "execution_count": 5,
     "metadata": {},
     "output_type": "execute_result"
    }
   ],
   "source": [
    "a.listProductsByInstrument('NPP')"
   ]
  },
  {
   "cell_type": "code",
   "execution_count": 6,
   "metadata": {},
   "outputs": [
    {
     "data": {
      "text/plain": [
       "{'NL0_A': 'NPP Level 0 Products',\n",
       " 'NL15M_A': 'NPP Level 1 5-Minute Products',\n",
       " 'NL16M_A': 'NPP Level 1 6-Minute Products',\n",
       " 'NL1D_A': 'NPP Level 1 Daily Products',\n",
       " 'NL1_A': 'NPP Level 1  Products',\n",
       " 'NL25M_A': 'NPP Level 2 5-Minute Products',\n",
       " 'NL26M_A': 'NPP Level 2 6-Minute Products',\n",
       " 'NL2D_A': 'NPP Level 2G Daily Products',\n",
       " 'NL2_A': 'NPP Level 2  Products',\n",
       " 'NL316DT_A': 'NPP Level 3 16-Day Tiled Products',\n",
       " 'NL317DT_A': 'NPP Level 3 17-Day Tiled Products',\n",
       " 'NL38DT_A': 'NPP Level 3  8-Day Tiled Products',\n",
       " 'NL3DT_A': 'NPP Level 3   Daily Tiled Products',\n",
       " 'NL3D_A': 'NPP Level 3    Daily Products',\n",
       " 'NL3M_A': 'NPP Level 3 Monthly Tiled Products',\n",
       " 'NL3Q_A': 'NPP Level 3 Quarterly Tiled Products',\n",
       " 'NL3_A': 'NPP Level 3     Products',\n",
       " 'NSUB_A': 'NPP Subset Products'}"
      ]
     },
     "execution_count": 6,
     "metadata": {},
     "output_type": "execute_result"
    }
   ],
   "source": [
    "a.listProductGroups('NPP')"
   ]
  },
  {
   "cell_type": "code",
   "execution_count": 7,
   "metadata": {},
   "outputs": [
    {
     "data": {
      "text/plain": [
       "{'AB_A': 'Aqua Atmosphere Browse Products',\n",
       " 'AL2_A': 'Aqua Atmosphere Level 2 Products',\n",
       " 'AL3_A': 'Aqua Atmosphere Level 3 Products',\n",
       " 'L0_D': 'Aqua Level 0 Products',\n",
       " 'L1B_A': 'Aqua Level 1 Browse Products',\n",
       " 'L1_D': 'Aqua  Level 1 Products',\n",
       " 'LB_A': 'Aqua Land Browse Products',\n",
       " 'LL2DT_P': 'Aqua Land Level 2G Daily Tiled Products',\n",
       " 'LL2_P': 'Aqua Land Level 2 Products',\n",
       " 'LL3L416DT_A': 'Aqua Land Level 3/Level 4    16-Day Tiled Products',\n",
       " 'LL3L48DT_A': 'Aqua Land Level 3/Level 4     8-Day Tiled Products',\n",
       " 'LL3L4DTL_A': 'Aqua Land Level 3/Level 4      Daily Tiled LST Products',\n",
       " 'LL3L4MT_A': 'Aqua Land Level 3/Level 4   Monthly Tiled Products',\n",
       " 'LL3L4YT_A': 'Aqua Land Level 3/Level 4 Yearly Tiled Products',\n",
       " 'LL3L4_A': 'Aqua Land Level 3/Level 4      CMG Products'}"
      ]
     },
     "execution_count": 7,
     "metadata": {},
     "output_type": "execute_result"
    }
   ],
   "source": [
    "a.listProductGroups('PM1M')"
   ]
  },
  {
   "cell_type": "code",
   "execution_count": 8,
   "metadata": {},
   "outputs": [
    {
     "data": {
      "text/plain": [
       "['NP5_GAERO_L1',\n",
       " 'NP5_GDNBO_L1',\n",
       " 'NP5_GIMGO_L1',\n",
       " 'NP5_GITCO_L1',\n",
       " 'NP5_GMODO_L1',\n",
       " 'NP5_GMTCO_L1',\n",
       " 'NP5_IVSDH_L1',\n",
       " 'NP5_SVDNB_L1',\n",
       " 'NP5_SVI01_L1',\n",
       " 'NP5_SVI02_L1',\n",
       " 'NP5_SVI03_L1',\n",
       " 'NP5_SVI04_L1',\n",
       " 'NP5_SVI05_L1',\n",
       " 'NP5_SVM01_L1',\n",
       " 'NP5_SVM02_L1',\n",
       " 'NP5_SVM03_L1',\n",
       " 'NP5_SVM04_L1',\n",
       " 'NP5_SVM05_L1',\n",
       " 'NP5_SVM06_L1',\n",
       " 'NP5_SVM07_L1',\n",
       " 'NP5_SVM08_L1',\n",
       " 'NP5_SVM09_L1',\n",
       " 'NP5_SVM10_L1',\n",
       " 'NP5_SVM11_L1',\n",
       " 'NP5_SVM12_L1',\n",
       " 'NP5_SVM13_L1',\n",
       " 'NP5_SVM14_L1',\n",
       " 'NP5_SVM15_L1',\n",
       " 'NP5_SVM16_L1',\n",
       " 'NP5_UDGTGIP_L1',\n",
       " 'NP5_VCDGIP_L1',\n",
       " 'NP5_VMUGE_L1']"
      ]
     },
     "execution_count": 8,
     "metadata": {},
     "output_type": "execute_result"
    }
   ],
   "source": [
    "a.listProductsByInstrument('NPP', group='NL1_A')"
   ]
  },
  {
   "cell_type": "code",
   "execution_count": 9,
   "metadata": {},
   "outputs": [
    {
     "data": {
      "text/plain": [
       "['MYD01',\n",
       " 'MYD021KM',\n",
       " 'MYD021QA',\n",
       " 'MYD02HKM',\n",
       " 'MYD02OBC',\n",
       " 'MYD02QKM',\n",
       " 'MYD02SSH',\n",
       " 'MYD03']"
      ]
     },
     "execution_count": 9,
     "metadata": {},
     "output_type": "execute_result"
    }
   ],
   "source": [
    "a.listProductsByInstrument('PM1M', group='L1_D')"
   ]
  },
  {
   "cell_type": "markdown",
   "metadata": {},
   "source": [
    "LAADS stores files in Collections, which correspond sometimes to algorithm versions."
   ]
  },
  {
   "cell_type": "code",
   "execution_count": 10,
   "metadata": {},
   "outputs": [
    {
     "data": {
      "text/plain": [
       "{'6': 'MODIS Collection 6 - Level 1, Atmosphere, Land',\n",
       " '61': 'MODIS Collection 6.1 - Level 1, Atmosphere, Land'}"
      ]
     },
     "execution_count": 10,
     "metadata": {},
     "output_type": "execute_result"
    }
   ],
   "source": [
    "a.getCollections('MYD021KM')"
   ]
  },
  {
   "cell_type": "markdown",
   "metadata": {},
   "source": [
    "### Example how to search files, find their URLs and inspect a browse image (if available)"
   ]
  },
  {
   "cell_type": "code",
   "execution_count": 11,
   "metadata": {},
   "outputs": [
    {
     "data": {
      "text/plain": [
       "['3094356433',\n",
       " '3094830256',\n",
       " '3094827193',\n",
       " '3094829140',\n",
       " '3094830689',\n",
       " '3094828467',\n",
       " '3094830895',\n",
       " '3094835696',\n",
       " '3094841235',\n",
       " '3094839762',\n",
       " '3094840747',\n",
       " '3094843311',\n",
       " '3095401983',\n",
       " '3095401006',\n",
       " '3095404255',\n",
       " '3095400592',\n",
       " '3095404257',\n",
       " '3095414907',\n",
       " '3095417356',\n",
       " '3095418113',\n",
       " '3095418117']"
      ]
     },
     "execution_count": 11,
     "metadata": {},
     "output_type": "execute_result"
    }
   ],
   "source": [
    "a.searchForFiles('MYD021KM', '2018-03-10', '2018-03-11', 65.5, 65.5, -147.7, -147.7, collection=6)"
   ]
  },
  {
   "cell_type": "markdown",
   "metadata": {},
   "source": [
    "We can also limit by time. "
   ]
  },
  {
   "cell_type": "code",
   "execution_count": 12,
   "metadata": {},
   "outputs": [
    {
     "data": {
      "text/plain": [
       "['3095401983',\n",
       " '3095401006',\n",
       " '3095404255',\n",
       " '3095400592',\n",
       " '3095404257',\n",
       " '3095414907',\n",
       " '3095417356',\n",
       " '3095418113',\n",
       " '3095418117']"
      ]
     },
     "execution_count": 12,
     "metadata": {},
     "output_type": "execute_result"
    }
   ],
   "source": [
    "a.searchForFiles('MYD021KM', '2018-03-11 12:00', '2018-03-11 23:59', 65.5, 65.5, -147.7, -147.7, collection=6)"
   ]
  },
  {
   "cell_type": "code",
   "execution_count": 13,
   "metadata": {},
   "outputs": [
    {
     "data": {
      "text/plain": [
       "[{'checksum': '1438858046',\n",
       "  'fileId': '3095418117',\n",
       "  'fileName': 'MYD021KM.A2018070.2330.006.2018071154427.hdf',\n",
       "  'fileSizeBytes': '131269654',\n",
       "  'fileType': 'MYD021KM',\n",
       "  'ingestTime': '2018-03-12 15:45:10.898065',\n",
       "  'online': 'true',\n",
       "  'startTime': '2018-03-11 23:30:00.0'}]"
      ]
     },
     "execution_count": 13,
     "metadata": {},
     "output_type": "execute_result"
    }
   ],
   "source": [
    "a.getFileProperties('3095418117')"
   ]
  },
  {
   "cell_type": "code",
   "execution_count": 14,
   "metadata": {},
   "outputs": [
    {
     "data": {
      "text/plain": [
       "['https://ladsweb.modaps.eosdis.nasa.gov/archive/allData/6/MYD021KM/2018/070/MYD021KM.A2018070.2330.006.2018071154427.hdf']"
      ]
     },
     "execution_count": 14,
     "metadata": {},
     "output_type": "execute_result"
    }
   ],
   "source": [
    "a.getFileUrls('3095418117')"
   ]
  },
  {
   "cell_type": "code",
   "execution_count": 15,
   "metadata": {},
   "outputs": [
    {
     "data": {
      "text/plain": [
       "[{'archiveAutoDelete': 'false',\n",
       "  'fileId': '3095418117',\n",
       "  'requireUntil': '2018-04-11 15:45:38.414532'}]"
      ]
     },
     "execution_count": 15,
     "metadata": {},
     "output_type": "execute_result"
    }
   ],
   "source": [
    "a.getFileOnlineStatuses('3095418117')"
   ]
  },
  {
   "cell_type": "code",
   "execution_count": 16,
   "metadata": {},
   "outputs": [
    {
     "data": {
      "text/plain": [
       "[{'description': 'Aqua Granule Level 1 browse RGB FROM MYD021KM',\n",
       "  'fileId': '3095675990',\n",
       "  'product': 'MYBRGB'}]"
      ]
     },
     "execution_count": 16,
     "metadata": {},
     "output_type": "execute_result"
    }
   ],
   "source": [
    "a.getBrowse('3095418117')"
   ]
  },
  {
   "cell_type": "code",
   "execution_count": 17,
   "metadata": {},
   "outputs": [
    {
     "data": {
      "text/plain": [
       "['https://ladsweb.modaps.eosdis.nasa.gov/archive/allData/6/MYBRGB/2018/070/MYBRGB.A2018070.2330.006.2018071212934.jpg']"
      ]
     },
     "execution_count": 17,
     "metadata": {},
     "output_type": "execute_result"
    }
   ],
   "source": [
    "browseurl = a.getFileUrls('3095675990')\n",
    "browseurl"
   ]
  },
  {
   "cell_type": "code",
   "execution_count": 18,
   "metadata": {},
   "outputs": [
    {
     "data": {
      "text/html": [
       "<img src=\"https://ladsweb.modaps.eosdis.nasa.gov/archive/allData/6/MYBRGB/2018/070/MYBRGB.A2018070.2330.006.2018071212934.jpg\" width=\"500\"/>"
      ],
      "text/plain": [
       "<IPython.core.display.Image object>"
      ]
     },
     "execution_count": 18,
     "metadata": {},
     "output_type": "execute_result"
    }
   ],
   "source": [
    "from IPython.display import Image\n",
    "from IPython.core.display import HTML \n",
    "Image(url=browseurl[0], width=500)"
   ]
  },
  {
   "cell_type": "code",
   "execution_count": null,
   "metadata": {
    "collapsed": true
   },
   "outputs": [],
   "source": []
  }
 ],
 "metadata": {
  "anaconda-cloud": {},
  "kernelspec": {
   "display_name": "Python [conda env:snakes]",
   "language": "python",
   "name": "conda-env-snakes-py"
  },
  "language_info": {
   "codemirror_mode": {
    "name": "ipython",
    "version": 2
   },
   "file_extension": ".py",
   "mimetype": "text/x-python",
   "name": "python",
   "nbconvert_exporter": "python",
   "pygments_lexer": "ipython2",
   "version": "2.7.14"
  }
 },
 "nbformat": 4,
 "nbformat_minor": 2
}
